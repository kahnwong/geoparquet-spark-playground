{
 "cells": [
  {
   "cell_type": "code",
   "execution_count": 1,
   "id": "9f5b05ed-6c8f-4882-b554-f4810396a81e",
   "metadata": {},
   "outputs": [
    {
     "name": "stderr",
     "output_type": "stream",
     "text": [
      "23/07/28 20:33:04 WARN Utils: Your hostname, Karns-MacBook-Pro.local resolves to a loopback address: 127.0.0.1; using 192.168.1.40 instead (on interface en0)\n",
      "23/07/28 20:33:04 WARN Utils: Set SPARK_LOCAL_IP if you need to bind to another address\n",
      "Ivy Default Cache set to: /Users/kahnwong/.ivy2/cache\n",
      "The jars for the packages stored in: /Users/kahnwong/.ivy2/jars\n",
      "org.apache.sedona#sedona-spark-shaded-3.4_2.12 added as a dependency\n",
      "org.datasyslab#geotools-wrapper added as a dependency\n",
      ":: resolving dependencies :: org.apache.spark#spark-submit-parent-a427e20c-50d0-4d05-a3fe-7c5e0e63c4fa;1.0\n",
      "\tconfs: [default]\n"
     ]
    },
    {
     "name": "stdout",
     "output_type": "stream",
     "text": [
      ":: loading settings :: url = jar:file:/Users/kahnwong/.local/share/virtualenvs/geoparquet-spark-playground-fuyZVfg8/lib/python3.10/site-packages/pyspark/jars/ivy-2.5.1.jar!/org/apache/ivy/core/settings/ivysettings.xml\n"
     ]
    },
    {
     "name": "stderr",
     "output_type": "stream",
     "text": [
      "\tfound org.apache.sedona#sedona-spark-shaded-3.4_2.12;1.4.1 in central\n",
      "\tfound org.datasyslab#geotools-wrapper;1.4.0-28.2 in central\n",
      ":: resolution report :: resolve 89ms :: artifacts dl 4ms\n",
      "\t:: modules in use:\n",
      "\torg.apache.sedona#sedona-spark-shaded-3.4_2.12;1.4.1 from central in [default]\n",
      "\torg.datasyslab#geotools-wrapper;1.4.0-28.2 from central in [default]\n",
      "\t---------------------------------------------------------------------\n",
      "\t|                  |            modules            ||   artifacts   |\n",
      "\t|       conf       | number| search|dwnlded|evicted|| number|dwnlded|\n",
      "\t---------------------------------------------------------------------\n",
      "\t|      default     |   2   |   0   |   0   |   0   ||   2   |   0   |\n",
      "\t---------------------------------------------------------------------\n",
      ":: retrieving :: org.apache.spark#spark-submit-parent-a427e20c-50d0-4d05-a3fe-7c5e0e63c4fa\n",
      "\tconfs: [default]\n",
      "\t0 artifacts copied, 2 already retrieved (0kB/2ms)\n",
      "23/07/28 20:33:05 WARN NativeCodeLoader: Unable to load native-hadoop library for your platform... using builtin-java classes where applicable\n",
      "Setting default log level to \"WARN\".\n",
      "To adjust logging level use sc.setLogLevel(newLevel). For SparkR, use setLogLevel(newLevel).\n"
     ]
    }
   ],
   "source": [
    "# https://sedona.apache.org/1.4.1/tutorial/sql/\n",
    "# https://sedona.apache.org/1.4.1/tutorial/sql/#set-up-dependencies\n",
    "\n",
    "from sedona.spark import SedonaContext\n",
    "\n",
    "config = (\n",
    "    SedonaContext.builder()\n",
    "    .config(\n",
    "        \"spark.jars.packages\",\n",
    "        \"org.apache.sedona:sedona-spark-shaded-3.4_2.12:1.4.1,\"\n",
    "        \"org.datasyslab:geotools-wrapper:1.4.0-28.2\",\n",
    "    )\n",
    "    .getOrCreate()\n",
    ")\n",
    "\n",
    "sedona = SedonaContext.create(config)"
   ]
  },
  {
   "cell_type": "code",
   "execution_count": 2,
   "id": "b15a113f-f9dc-4d5a-8eb4-6625c98ea2b7",
   "metadata": {},
   "outputs": [
    {
     "name": "stdout",
     "output_type": "stream",
     "text": [
      "--2023-07-28 20:33:09--  https://github.com/opengeospatial/geoparquet/raw/main/examples/example.parquet\n",
      "Resolving github.com (github.com)... 20.205.243.166\n",
      "Connecting to github.com (github.com)|20.205.243.166|:443... connected.\n",
      "HTTP request sent, awaiting response... 302 Found\n",
      "Location: https://raw.githubusercontent.com/opengeospatial/geoparquet/main/examples/example.parquet [following]\n",
      "--2023-07-28 20:33:10--  https://raw.githubusercontent.com/opengeospatial/geoparquet/main/examples/example.parquet\n",
      "Resolving raw.githubusercontent.com (raw.githubusercontent.com)... 185.199.109.133, 185.199.111.133, 185.199.110.133, ...\n",
      "Connecting to raw.githubusercontent.com (raw.githubusercontent.com)|185.199.109.133|:443... connected.\n",
      "HTTP request sent, awaiting response... 200 OK\n",
      "Length: 27814 (27K) [application/octet-stream]\n",
      "Saving to: ‘data/example.parquet.1’\n",
      "\n",
      "example.parquet.1   100%[===================>]  27.16K  --.-KB/s    in 0.001s  \n",
      "\n",
      "2023-07-28 20:33:10 (29.3 MB/s) - ‘data/example.parquet.1’ saved [27814/27814]\n",
      "\n"
     ]
    }
   ],
   "source": [
    "!mkdir -p data\n",
    "!wget -P data/ https://github.com/opengeospatial/geoparquet/raw/main/examples/example.parquet"
   ]
  },
  {
   "cell_type": "code",
   "execution_count": 3,
   "id": "111c2e06-3328-4ba0-bf9b-8052eba3ab69",
   "metadata": {},
   "outputs": [
    {
     "name": "stdout",
     "output_type": "stream",
     "text": [
      "root\n",
      " |-- pop_est: double (nullable = true)\n",
      " |-- continent: string (nullable = true)\n",
      " |-- name: string (nullable = true)\n",
      " |-- iso_a3: string (nullable = true)\n",
      " |-- gdp_md_est: long (nullable = true)\n",
      " |-- geometry: geometry (nullable = true)\n",
      "\n"
     ]
    }
   ],
   "source": [
    "df = sedona.read.format(\"geoparquet\").load(\"data/example.parquet\")\n",
    "# df = spark.read.parquet('data/example.parquet')\n",
    "df.printSchema()"
   ]
  },
  {
   "cell_type": "code",
   "execution_count": 4,
   "id": "3ee0e468-0ac3-40ec-b036-5c048c3a45d4",
   "metadata": {},
   "outputs": [
    {
     "name": "stdout",
     "output_type": "stream",
     "text": [
      "+------------+-------------+--------------------+------+----------+--------------------+\n",
      "|     pop_est|    continent|                name|iso_a3|gdp_md_est|            geometry|\n",
      "+------------+-------------+--------------------+------+----------+--------------------+\n",
      "|    889953.0|      Oceania|                Fiji|   FJI|      5496|MULTIPOLYGON (((1...|\n",
      "| 5.8005463E7|       Africa|            Tanzania|   TZA|     63177|POLYGON ((33.9037...|\n",
      "|    603253.0|       Africa|           W. Sahara|   ESH|       907|POLYGON ((-8.6655...|\n",
      "| 3.7589262E7|North America|              Canada|   CAN|   1736425|MULTIPOLYGON (((-...|\n",
      "|3.28239523E8|North America|United States of ...|   USA|  21433226|MULTIPOLYGON (((-...|\n",
      "+------------+-------------+--------------------+------+----------+--------------------+\n",
      "\n"
     ]
    }
   ],
   "source": [
    "df.show()"
   ]
  },
  {
   "cell_type": "code",
   "execution_count": 5,
   "id": "2e82daac-c076-4a8a-8c0f-f141f299d1bb",
   "metadata": {},
   "outputs": [],
   "source": [
    "df.createOrReplaceTempView(\"df\")"
   ]
  },
  {
   "cell_type": "code",
   "execution_count": 6,
   "id": "f315409f-9ddf-4d80-86e7-ba7c22f4d0d7",
   "metadata": {},
   "outputs": [
    {
     "name": "stdout",
     "output_type": "stream",
     "text": [
      "+------------+-------------+--------------------+------+----------+--------------------+-------+\n",
      "|     pop_est|    continent|                name|iso_a3|gdp_md_est|            geometry|geohash|\n",
      "+------------+-------------+--------------------+------+----------+--------------------+-------+\n",
      "|3.28239523E8|North America|United States of ...|   USA|  21433226|MULTIPOLYGON (((-...|  c250g|\n",
      "| 3.7589262E7|North America|              Canada|   CAN|   1736425|MULTIPOLYGON (((-...|  cg55k|\n",
      "|    603253.0|       Africa|           W. Sahara|   ESH|       907|POLYGON ((-8.6655...|  esqf7|\n",
      "|    889953.0|      Oceania|                Fiji|   FJI|      5496|MULTIPOLYGON (((1...|  khbn2|\n",
      "| 5.8005463E7|       Africa|            Tanzania|   TZA|     63177|POLYGON ((33.9037...|  kybgb|\n",
      "+------------+-------------+--------------------+------+----------+--------------------+-------+\n",
      "\n"
     ]
    }
   ],
   "source": [
    "sedona.sql(\n",
    "    \"\"\"\n",
    "SELECT *, ST_GeoHash(geometry, 5) as geohash\n",
    "FROM df\n",
    "ORDER BY geohash\n",
    "    \"\"\"\n",
    ").show()"
   ]
  },
  {
   "cell_type": "code",
   "execution_count": null,
   "id": "bb0f7240-5655-40dc-8ad7-6411489a266a",
   "metadata": {},
   "outputs": [],
   "source": []
  }
 ],
 "metadata": {
  "kernelspec": {
   "display_name": "Python 3 (ipykernel)",
   "language": "python",
   "name": "python3"
  },
  "language_info": {
   "codemirror_mode": {
    "name": "ipython",
    "version": 3
   },
   "file_extension": ".py",
   "mimetype": "text/x-python",
   "name": "python",
   "nbconvert_exporter": "python",
   "pygments_lexer": "ipython3",
   "version": "3.10.12"
  }
 },
 "nbformat": 4,
 "nbformat_minor": 5
}
